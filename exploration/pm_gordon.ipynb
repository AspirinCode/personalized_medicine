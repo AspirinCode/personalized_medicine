{
 "cells": [
  {
   "cell_type": "markdown",
   "metadata": {},
   "source": [
    "### Quick Notes\n",
    "\n",
    "https://github.com/brandomr/document_cluster\n",
    "\n",
    "http://www.nltk.org/book/\n",
    "\n",
    "stemming nltk"
   ]
  },
  {
   "cell_type": "code",
   "execution_count": 2,
   "metadata": {
    "collapsed": false
   },
   "outputs": [
    {
     "data": {
      "text/html": [
       "<div>\n",
       "<style>\n",
       "    .dataframe thead tr:only-child th {\n",
       "        text-align: right;\n",
       "    }\n",
       "\n",
       "    .dataframe thead th {\n",
       "        text-align: left;\n",
       "    }\n",
       "\n",
       "    .dataframe tbody tr th {\n",
       "        vertical-align: top;\n",
       "    }\n",
       "</style>\n",
       "<table border=\"1\" class=\"dataframe\">\n",
       "  <thead>\n",
       "    <tr style=\"text-align: right;\">\n",
       "      <th></th>\n",
       "      <th>ID</th>\n",
       "      <th>Gene</th>\n",
       "      <th>Variation</th>\n",
       "      <th>Class</th>\n",
       "      <th>Text</th>\n",
       "    </tr>\n",
       "  </thead>\n",
       "  <tbody>\n",
       "    <tr>\n",
       "      <th>0</th>\n",
       "      <td>0</td>\n",
       "      <td>FAM58A</td>\n",
       "      <td>Truncating Mutations</td>\n",
       "      <td>1</td>\n",
       "      <td>Cyclin-dependent kinases (CDKs) regulate a var...</td>\n",
       "    </tr>\n",
       "    <tr>\n",
       "      <th>1</th>\n",
       "      <td>1</td>\n",
       "      <td>CBL</td>\n",
       "      <td>W802*</td>\n",
       "      <td>2</td>\n",
       "      <td>Abstract Background  Non-small cell lung canc...</td>\n",
       "    </tr>\n",
       "    <tr>\n",
       "      <th>2</th>\n",
       "      <td>2</td>\n",
       "      <td>CBL</td>\n",
       "      <td>Q249E</td>\n",
       "      <td>2</td>\n",
       "      <td>Abstract Background  Non-small cell lung canc...</td>\n",
       "    </tr>\n",
       "    <tr>\n",
       "      <th>3</th>\n",
       "      <td>3</td>\n",
       "      <td>CBL</td>\n",
       "      <td>N454D</td>\n",
       "      <td>3</td>\n",
       "      <td>Recent evidence has demonstrated that acquired...</td>\n",
       "    </tr>\n",
       "    <tr>\n",
       "      <th>4</th>\n",
       "      <td>4</td>\n",
       "      <td>CBL</td>\n",
       "      <td>L399V</td>\n",
       "      <td>4</td>\n",
       "      <td>Oncogenic mutations in the monomeric Casitas B...</td>\n",
       "    </tr>\n",
       "  </tbody>\n",
       "</table>\n",
       "</div>"
      ],
      "text/plain": [
       "   ID    Gene             Variation  Class  \\\n",
       "0   0  FAM58A  Truncating Mutations      1   \n",
       "1   1     CBL                 W802*      2   \n",
       "2   2     CBL                 Q249E      2   \n",
       "3   3     CBL                 N454D      3   \n",
       "4   4     CBL                 L399V      4   \n",
       "\n",
       "                                                Text  \n",
       "0  Cyclin-dependent kinases (CDKs) regulate a var...  \n",
       "1   Abstract Background  Non-small cell lung canc...  \n",
       "2   Abstract Background  Non-small cell lung canc...  \n",
       "3  Recent evidence has demonstrated that acquired...  \n",
       "4  Oncogenic mutations in the monomeric Casitas B...  "
      ]
     },
     "execution_count": 2,
     "metadata": {},
     "output_type": "execute_result"
    }
   ],
   "source": [
    "import pandas as pd\n",
    "import numpy as np\n",
    "\n",
    "train_text = pd.read_csv('../data/training_text', \n",
    "                         sep = \"\\|\\|\", \n",
    "                         engine = 'python', \n",
    "                         header = None, \n",
    "                         skiprows = 1, \n",
    "                         names = [\"ID\",\"Text\"])\n",
    "test_text = pd.read_csv('../data/test_text', \n",
    "                        sep = \"\\|\\|\", \n",
    "                        engine = 'python',\n",
    "                        header = None, \n",
    "                        skiprows = 1, \n",
    "                        names = [\"ID\",\"Text\"])\n",
    "\n",
    "df_train = pd.read_csv('../data/training_variants')\n",
    "df_test = pd.read_csv('../data/test_variants')\n",
    "\n",
    "df_train['Text'] = train_text.Text\n",
    "df_test['Text'] = test_text.Text\n",
    "\n",
    "df_train.head()"
   ]
  },
  {
   "cell_type": "code",
   "execution_count": 5,
   "metadata": {
    "collapsed": false
   },
   "outputs": [
    {
     "data": {
      "text/plain": [
       "3321"
      ]
     },
     "execution_count": 5,
     "metadata": {},
     "output_type": "execute_result"
    }
   ],
   "source": [
    "len(df_train)"
   ]
  },
  {
   "cell_type": "code",
   "execution_count": 7,
   "metadata": {
    "collapsed": false
   },
   "outputs": [
    {
     "data": {
      "text/plain": [
       "264"
      ]
     },
     "execution_count": 7,
     "metadata": {},
     "output_type": "execute_result"
    }
   ],
   "source": [
    "len(df_train.Gene.unique())"
   ]
  },
  {
   "cell_type": "code",
   "execution_count": 8,
   "metadata": {
    "collapsed": false
   },
   "outputs": [
    {
     "data": {
      "text/plain": [
       "2996"
      ]
     },
     "execution_count": 8,
     "metadata": {},
     "output_type": "execute_result"
    }
   ],
   "source": [
    "len(df_train.Variation.unique())"
   ]
  },
  {
   "cell_type": "code",
   "execution_count": 10,
   "metadata": {
    "collapsed": false
   },
   "outputs": [
    {
     "data": {
      "text/plain": [
       "BRCA1       264\n",
       "TP53        163\n",
       "EGFR        141\n",
       "PTEN        126\n",
       "BRCA2       125\n",
       "KIT          99\n",
       "BRAF         93\n",
       "ALK          69\n",
       "ERBB2        69\n",
       "PDGFRA       60\n",
       "PIK3CA       56\n",
       "CDKN2A       52\n",
       "FGFR2        50\n",
       "FLT3         49\n",
       "TSC2         47\n",
       "MTOR         45\n",
       "KRAS         44\n",
       "MAP2K1       43\n",
       "VHL          41\n",
       "RET          40\n",
       "FGFR3        39\n",
       "MLH1         35\n",
       "MET          33\n",
       "SMAD4        33\n",
       "JAK2         33\n",
       "NOTCH1       31\n",
       "AKT1         28\n",
       "PTPN11       26\n",
       "ABL1         26\n",
       "ROS1         26\n",
       "           ... \n",
       "KMT2B         1\n",
       "HLA-B         1\n",
       "HIST1H1C      1\n",
       "GLI1          1\n",
       "AXL           1\n",
       "TCF3          1\n",
       "FLT1          1\n",
       "RARA          1\n",
       "RNF43         1\n",
       "GNA11         1\n",
       "DUSP4         1\n",
       "FANCC         1\n",
       "CEBPA         1\n",
       "SDHC          1\n",
       "FGF19         1\n",
       "CDKN2C        1\n",
       "ERRFI1        1\n",
       "WHSC1L1       1\n",
       "INPP4B        1\n",
       "SHOC2         1\n",
       "IKBKE         1\n",
       "NCOR1         1\n",
       "MEN1          1\n",
       "BARD1         1\n",
       "EPCAM         1\n",
       "SDHB          1\n",
       "FUBP1         1\n",
       "SRSF2         1\n",
       "LATS1         1\n",
       "FOXO1         1\n",
       "Name: Gene, dtype: int64"
      ]
     },
     "execution_count": 10,
     "metadata": {},
     "output_type": "execute_result"
    }
   ],
   "source": [
    "df_train.Gene.value_counts()"
   ]
  },
  {
   "cell_type": "code",
   "execution_count": 11,
   "metadata": {
    "collapsed": false
   },
   "outputs": [
    {
     "data": {
      "text/plain": [
       "Truncating Mutations         93\n",
       "Deletion                     74\n",
       "Amplification                71\n",
       "Fusions                      34\n",
       "Overexpression                6\n",
       "G12V                          4\n",
       "Q61H                          3\n",
       "Q61L                          3\n",
       "T58I                          3\n",
       "Q61R                          3\n",
       "E17K                          3\n",
       "P130S                         2\n",
       "Promoter Hypermethylation     2\n",
       "G12A                          2\n",
       "A146T                         2\n",
       "ETV6-NTRK3 Fusion             2\n",
       "G67R                          2\n",
       "F384L                         2\n",
       "G13C                          2\n",
       "G35R                          2\n",
       "R170W                         2\n",
       "C618R                         2\n",
       "Q61K                          2\n",
       "Y64A                          2\n",
       "M1R                           2\n",
       "K117N                         2\n",
       "Q22K                          2\n",
       "T286A                         2\n",
       "G12D                          2\n",
       "G13D                          2\n",
       "                             ..\n",
       "D513Y                         1\n",
       "G245D                         1\n",
       "CCDC6-ROS1 Fusion             1\n",
       "R505C                         1\n",
       "Y32S                          1\n",
       "G751R                         1\n",
       "M1T                           1\n",
       "T654M                         1\n",
       "R873Q                         1\n",
       "L344R                         1\n",
       "K2729N                        1\n",
       "R574fs                        1\n",
       "T790M                         1\n",
       "L1764P                        1\n",
       "981_1028splice                1\n",
       "C324Y                         1\n",
       "S1025C                        1\n",
       "A72V                          1\n",
       "R1598P                        1\n",
       "R173H                         1\n",
       "R1200W                        1\n",
       "R453C                         1\n",
       "R132H                         1\n",
       "P278L                         1\n",
       "V557I                         1\n",
       "L128F                         1\n",
       "D1270G                        1\n",
       "W398V                         1\n",
       "T241P                         1\n",
       "Q337*                         1\n",
       "Name: Variation, dtype: int64"
      ]
     },
     "execution_count": 11,
     "metadata": {},
     "output_type": "execute_result"
    }
   ],
   "source": [
    "df_train.Variation.value_counts()"
   ]
  },
  {
   "cell_type": "code",
   "execution_count": 12,
   "metadata": {
    "collapsed": false
   },
   "outputs": [
    {
     "data": {
      "text/plain": [
       "7    953\n",
       "4    686\n",
       "1    568\n",
       "2    452\n",
       "6    275\n",
       "5    242\n",
       "3     89\n",
       "9     37\n",
       "8     19\n",
       "Name: Class, dtype: int64"
      ]
     },
     "execution_count": 12,
     "metadata": {},
     "output_type": "execute_result"
    }
   ],
   "source": [
    "df_train.Class.value_counts()"
   ]
  },
  {
   "cell_type": "code",
   "execution_count": 13,
   "metadata": {
    "collapsed": false
   },
   "outputs": [
    {
     "data": {
      "text/plain": [
       "ID           0\n",
       "Gene         0\n",
       "Variation    0\n",
       "Class        0\n",
       "Text         0\n",
       "dtype: int64"
      ]
     },
     "execution_count": 13,
     "metadata": {},
     "output_type": "execute_result"
    }
   ],
   "source": [
    "df_train.isnull().sum()"
   ]
  },
  {
   "cell_type": "code",
   "execution_count": 3,
   "metadata": {
    "collapsed": false
   },
   "outputs": [],
   "source": [
    "import re, string\n",
    "from nltk.corpus import stopwords\n",
    "\n",
    "def process_text(txt):\n",
    "\n",
    "    txt = txt.lower()           \n",
    "    txt = txt.strip()      \n",
    "    #Remove stopwords\n",
    "    txt = \" \".join([word for word in txt.split(' ') if word not in stopwords.words('english')])\n",
    "    #Remove punctuation\n",
    "    txt = \"\".join(l for l in txt if l not in string.punctuation)   \n",
    "    return txt\n",
    "\n",
    "df_train['Text'] = df_train['Text'].map(lambda x: process_text(x))"
   ]
  },
  {
   "cell_type": "code",
   "execution_count": 6,
   "metadata": {
    "collapsed": false
   },
   "outputs": [
    {
     "name": "stdout",
     "output_type": "stream",
     "text": [
      "(3321, 3277863)\n"
     ]
    }
   ],
   "source": [
    "from sklearn.feature_extraction.text import TfidfVectorizer\n",
    "\n",
    "text = df_train['Text'].values\n",
    "vectorizer = TfidfVectorizer(ngram_range = (1, 2))\n",
    "text_vectorized = vectorizer.fit_transform(text)\n",
    "print(text_vectorized.shape)"
   ]
  },
  {
   "cell_type": "code",
   "execution_count": 9,
   "metadata": {
    "collapsed": false
   },
   "outputs": [
    {
     "data": {
      "text/plain": [
       "array([-7.19773128, -8.37886377, -8.86677507, -5.44876663, -6.9950215 ])"
      ]
     },
     "execution_count": 9,
     "metadata": {},
     "output_type": "execute_result"
    }
   ],
   "source": [
    "from sklearn.cross_validation import cross_val_score\n",
    "from sklearn.ensemble import RandomForestClassifier\n",
    "\n",
    "y = df_train.Class.values\n",
    "scores_rfc = cross_val_score(RandomForestClassifier(), \n",
    "                             text_vectorized, \n",
    "                             y, \n",
    "                             cv = 5, \n",
    "                             scoring = 'log_loss')\n",
    "scores_rfc"
   ]
  },
  {
   "cell_type": "code",
   "execution_count": null,
   "metadata": {
    "collapsed": true
   },
   "outputs": [],
   "source": []
  }
 ],
 "metadata": {
  "anaconda-cloud": {},
  "kernelspec": {
   "display_name": "Python [conda root]",
   "language": "python",
   "name": "conda-root-py"
  },
  "language_info": {
   "codemirror_mode": {
    "name": "ipython",
    "version": 3
   },
   "file_extension": ".py",
   "mimetype": "text/x-python",
   "name": "python",
   "nbconvert_exporter": "python",
   "pygments_lexer": "ipython3",
   "version": "3.5.2"
  }
 },
 "nbformat": 4,
 "nbformat_minor": 2
}
